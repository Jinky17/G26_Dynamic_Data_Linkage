{
  "cells": [
    {
      "cell_type": "markdown",
      "metadata": {
        "id": "view-in-github",
        "colab_type": "text"
      },
      "source": [
        "<a href=\"https://colab.research.google.com/github/Jinky17/G26_Dynamic_Data_Linkage/blob/main/Origninal_Dynamic_Data_linkage_MVP_demonstration_13th_October.ipynb\" target=\"_parent\"><img src=\"https://colab.research.google.com/assets/colab-badge.svg\" alt=\"Open In Colab\"/></a>"
      ]
    },
    {
      "cell_type": "markdown",
      "metadata": {
        "id": "Ne-0NhduiJwf"
      },
      "source": [
        "# Import all the required packages/libraries "
      ]
    },
    {
      "cell_type": "code",
      "execution_count": null,
      "metadata": {
        "colab": {
          "base_uri": "https://localhost:8080/"
        },
        "id": "w-qKaZP_4zqC",
        "outputId": "3ea77118-5041-46a0-83d7-f683ab7053b7"
      },
      "outputs": [
        {
          "output_type": "stream",
          "name": "stdout",
          "text": [
            "Looking in indexes: https://pypi.org/simple, https://us-python.pkg.dev/colab-wheels/public/simple/\n",
            "Requirement already satisfied: bitarray in /usr/local/lib/python3.7/dist-packages (2.6.0)\n",
            "29 30 0.95 0.9201101928374655\n",
            "jesse dobson 0.0 0.275\n",
            "female female 1.0 1.0\n",
            "99 1 0.85 0.8092105263157895\n",
            "99 1 0.0 0.5740181268882175\n"
          ]
        }
      ],
      "source": [
        "#reusing the Bloom filter codes\n",
        "!pip install bitarray\n",
        "import BF_encoding\n",
        "import pandas as pd\n",
        "\n",
        "from sklearn.cluster import AgglomerativeClustering\n",
        "from scipy.cluster.hierarchy import dendrogram, linkage\n",
        "from statistics import mean\n",
        "from bitarray import bitarray\n",
        "from sklearn.metrics import silhouette_score\n",
        "from matplotlib import pyplot as plt"
      ]
    },
    {
      "cell_type": "code",
      "execution_count": null,
      "metadata": {
        "id": "ZtRgJVtMK4NY"
      },
      "outputs": [],
      "source": [
        "#initialisng bloom filter object\n",
        "bf_len = 50 #Bloom filter length\n",
        "bf_num_hash_func = 2 #Number of hash functions\n",
        "bf_num_inter = 5 #Number of intervals to use for BF based similarities\n",
        "bf_step = 1 # \n",
        "max_abs_diff = 20 #Maximum absolute difference allowed\n",
        "min_val = 0 #Minimum value\n",
        "max_val = 100 #Maximum value\n",
        "q = 2 #Length of sub-strings/q-grams"
      ]
    },
    {
      "cell_type": "code",
      "execution_count": null,
      "metadata": {
        "id": "2WSz22GfK9UW"
      },
      "outputs": [],
      "source": [
        "bf = BF_encoding.BF(bf_len, bf_num_hash_func, bf_num_inter, bf_step,\n",
        "          max_abs_diff, min_val, max_val, q)"
      ]
    },
    {
      "cell_type": "markdown",
      "metadata": {
        "id": "3JOtQId9iGvk"
      },
      "source": [
        "------------------------------------------------------------------------------------------------------"
      ]
    },
    {
      "cell_type": "markdown",
      "metadata": {
        "id": "ret0mJmDyM0l"
      },
      "source": [
        "# Create a dictionary of first 3 raw datasets \n"
      ]
    },
    {
      "cell_type": "code",
      "execution_count": null,
      "metadata": {
        "id": "hMOy__xM6F-x"
      },
      "outputs": [],
      "source": [
        "rec_db1 = bf.__read_csv_file__('ncvr_numrec_100_modrec_2_ocp_0_myp_0_nump_5.csv',True, None)\n",
        "rec_db2 = bf.__read_csv_file__('ncvr_numrec_100_modrec_2_ocp_0_myp_1_nump_5.csv',True, None)\n",
        "rec_db3 = bf.__read_csv_file__('ncvr_numrec_100_modrec_2_ocp_0_myp_2_nump_5.csv',True, None)\n",
        "rec_db4 = bf.__read_csv_file__('ncvr_numrec_100_modrec_2_ocp_0_myp_3_nump_5.csv',True, None)\n",
        "rec_db5 = bf.__read_csv_file__('ncvr_numrec_100_modrec_2_ocp_0_myp_4_nump_5.csv',True, None)\n",
        "#rec_db6 = bf.__read_csv_file__('ncvr_numrec_5000_modrec_2_ocp_20_myp_0_nump_5.csv',True, None)\n",
        "#rec_db7 = bf.__read_csv_file__('ncvr_numrec_5000_modrec_2_ocp_20_myp_1_nump_5.csv',True, None)\n",
        "#rec_db8 = bf.__read_csv_file__('ncvr_numrec_5000_modrec_2_ocp_20_myp_2_nump_5.csv',True, None)\n",
        "#rec_db9 = bf.__read_csv_file__('ncvr_numrec_5000_modrec_2_ocp_20_myp_3_nump_5.csv',True, None)\n",
        "#rec_db10 = bf.__read_csv_file__('ncvr_numrec_5000_modrec_2_ocp_20_myp_4_nump_5.csv',True, None)\n",
        "#rec_db11 = bf.__read_csv_file__('ncvr_numrec_5000_modrec_2_ocp_40_myp_0_nump_5.csv',True, None)\n",
        "#rec_db12 = bf.__read_csv_file__('ncvr_numrec_5000_modrec_2_ocp_40_myp_1_nump_5.csv',True, None)\n",
        "#rec_db13 = bf.__read_csv_file__('ncvr_numrec_5000_modrec_2_ocp_40_myp_2_nump_5.csv',True, None)\n",
        "#rec_db14 = bf.__read_csv_file__('ncvr_numrec_5000_modrec_2_ocp_40_myp_3_nump_5.csv',True, None)\n",
        "#rec_db15 = bf.__read_csv_file__('ncvr_numrec_5000_modrec_2_ocp_40_myp_4_nump_5.csv',True, None)"
      ]
    },
    {
      "cell_type": "code",
      "execution_count": null,
      "metadata": {
        "colab": {
          "base_uri": "https://localhost:8080/"
        },
        "id": "HgCQOPLpxLrJ",
        "outputId": "df95cef8-f202-4c76-e272-086ffc696df4"
      },
      "outputs": [
        {
          "output_type": "stream",
          "name": "stdout",
          "text": [
            "<class 'dict'>\n"
          ]
        }
      ],
      "source": [
        "print(type(rec_db1))"
      ]
    },
    {
      "cell_type": "markdown",
      "metadata": {
        "id": "hNT9Ml8MiA0O"
      },
      "source": [
        "------------------------------------------------------------------------------------------------------"
      ]
    },
    {
      "cell_type": "markdown",
      "metadata": {
        "id": "nFXp1hr6yVJr"
      },
      "source": [
        "# Create bloom filter of the first 5 datasets\n",
        "### -- using pandas as pd\n",
        "### -- create a dictionary that has the combined BF from the 3 datasets"
      ]
    },
    {
      "cell_type": "code",
      "execution_count": null,
      "metadata": {
        "id": "onM4BRlY4-SE"
      },
      "outputs": [],
      "source": [
        "listBF = list() # creating a list to store hashed arrays of first 3 table only\n",
        "dictBF = dict()"
      ]
    },
    {
      "cell_type": "code",
      "execution_count": null,
      "metadata": {
        "id": "mVhJeGSPnk6f"
      },
      "outputs": [],
      "source": [
        "# for each record of selected csv file, use BF encoding, combine all the columns into a single array and hash it, and store \n",
        "temp1 = dict()\n",
        "db1 = list()\n",
        "for k, v in rec_db2.items():\n",
        "  store = v[1]+ v[2]+ v[3]+ v[4]\n",
        "  val2_set = [store]\n",
        "  bf1 = bf.set_to_bloom_filter(val2_set)\n",
        "  temp1[v[0]] = bf1 # append it into a dafarame instead of disctionary ??\n",
        "  listBF.append(bf1)\n",
        "  db1.append(1)"
      ]
    },
    {
      "cell_type": "code",
      "execution_count": null,
      "metadata": {
        "id": "n0gjNMS6w0Fr"
      },
      "outputs": [],
      "source": [
        "temp2 = dict()\n",
        "db2 = list()\n",
        "for k, v in rec_db2.items():\n",
        "  store = v[1]+ v[2]+ v[3]+ v[4]\n",
        "  val2_set = [store]\n",
        "  bf2 = bf.set_to_bloom_filter(val2_set)\n",
        "  temp2[v[0]] = bf2 # append it into a dafarame instead of disctionary ??\n",
        "  listBF.append(bf2)\n",
        "  db2.append(2)"
      ]
    },
    {
      "cell_type": "code",
      "execution_count": null,
      "metadata": {
        "id": "b1KnUa8dw0by"
      },
      "outputs": [],
      "source": [
        "temp3 = dict()\n",
        "db3 = list()\n",
        "for k, v in rec_db3.items():\n",
        "  store = v[1]+ v[2]+ v[3]+ v[4]\n",
        "  val3_set = [store]\n",
        "  bf3 = bf.set_to_bloom_filter(val3_set)\n",
        "  temp3[v[0]] = bf3  # append it into a dafarame instead of disctionary ??\n",
        "  listBF.append(bf3)\n",
        "  db3.append(3)"
      ]
    },
    {
      "cell_type": "code",
      "execution_count": null,
      "metadata": {
        "id": "0sEMd_HXCcS6"
      },
      "outputs": [],
      "source": [
        "temp4 = dict()\n",
        "db4 = list()\n",
        "for k, v in rec_db4.items():\n",
        "  store = v[1]+ v[2]+ v[3]+ v[4]\n",
        "  val4_set = [store]\n",
        "  bf4 = bf.set_to_bloom_filter(val4_set)\n",
        "  temp4[v[0]] = bf4  # append it into a dafarame instead of disctionary ??\n",
        "  db4.append(4)"
      ]
    },
    {
      "cell_type": "code",
      "execution_count": null,
      "metadata": {
        "id": "AnWiH_mJCv_0"
      },
      "outputs": [],
      "source": [
        "temp5 = dict() \n",
        "db5 = list()\n",
        "for k, v in rec_db5.items():\n",
        "  store = v[1]+ v[2]+ v[3]+ v[4]\n",
        "  val5_set = [store]\n",
        "  bf5 = bf.set_to_bloom_filter(val5_set)\n",
        "  temp5[v[0]] = bf5  # append it into a dafarame instead of disctionary ??\n",
        "  db5.append(5)"
      ]
    },
    {
      "cell_type": "markdown",
      "metadata": {
        "id": "XIi6WCnqh6Lg"
      },
      "source": [
        "--------------------------------------------------------------------------------"
      ]
    },
    {
      "cell_type": "code",
      "execution_count": null,
      "metadata": {
        "id": "qmwHisoopy0M"
      },
      "outputs": [],
      "source": [
        "header = ['rec_id', 'Blooom_filters']\n",
        "df1 = pd.DataFrame(temp1.items(), columns= header)\n",
        "df1[\"database_id\"] = db1 #adding the database id\n",
        "df1 = df1[['rec_id', \"database_id\",'Blooom_filters']] # rearrange the dataframe based on colunms"
      ]
    },
    {
      "cell_type": "code",
      "execution_count": null,
      "metadata": {
        "id": "nyGFF2wup-4r"
      },
      "outputs": [],
      "source": [
        "df2 = pd.DataFrame(temp2.items(), columns= header)\n",
        "df2[\"database_id\"] = db2 \n",
        "df2 = df2[['rec_id', \"database_id\",'Blooom_filters']]"
      ]
    },
    {
      "cell_type": "code",
      "execution_count": null,
      "metadata": {
        "id": "tGiDojzht9Dt"
      },
      "outputs": [],
      "source": [
        "df3 = pd.DataFrame(temp3.items(), columns= header) \n",
        "df3[\"database_id\"] = db3 \n",
        "df3 = df3[['rec_id', \"database_id\",'Blooom_filters']]"
      ]
    },
    {
      "cell_type": "code",
      "execution_count": null,
      "metadata": {
        "id": "VDtSs40aDASg"
      },
      "outputs": [],
      "source": [
        "df4 = pd.DataFrame(temp4.items(), columns= header) \n",
        "df4[\"database_id\"] = db4 \n",
        "df4 = df4[['rec_id', \"database_id\",'Blooom_filters']]"
      ]
    },
    {
      "cell_type": "code",
      "execution_count": null,
      "metadata": {
        "id": "5WqJ_k_LDApM"
      },
      "outputs": [],
      "source": [
        "df5 = pd.DataFrame(temp5.items(), columns= header) \n",
        "df5[\"database_id\"] = db5\n",
        "df5 = df5[['rec_id', \"database_id\",'Blooom_filters']]"
      ]
    },
    {
      "cell_type": "code",
      "source": [
        "First3Table = pd.concat([df1, df2, df3])\n",
        "First3Table.head()"
      ],
      "metadata": {
        "colab": {
          "base_uri": "https://localhost:8080/",
          "height": 206
        },
        "id": "qWUg682gCwwJ",
        "outputId": "5a5301b1-6e16-43a4-9cbd-ec4b2c7ac93e"
      },
      "execution_count": null,
      "outputs": [
        {
          "output_type": "execute_result",
          "data": {
            "text/plain": [
              "     rec_id  database_id                                     Blooom_filters\n",
              "0  04489635            1  [0, 0, 0, 0, 0, 0, 0, 0, 0, 0, 0, 0, 0, 0, 0, ...\n",
              "1  03597241            1  [0, 0, 0, 0, 0, 0, 0, 0, 0, 1, 0, 0, 0, 0, 0, ...\n",
              "2  07621378            1  [0, 0, 0, 0, 0, 0, 0, 0, 0, 0, 0, 0, 0, 0, 0, ...\n",
              "3  05029442            1  [0, 0, 0, 0, 0, 0, 0, 0, 0, 0, 0, 0, 0, 0, 0, ...\n",
              "4  06845956            1  [0, 0, 0, 0, 0, 0, 0, 0, 0, 0, 0, 0, 0, 0, 0, ..."
            ],
            "text/html": [
              "\n",
              "  <div id=\"df-9d22f085-140c-4c2e-b88c-b74087d9fc8c\">\n",
              "    <div class=\"colab-df-container\">\n",
              "      <div>\n",
              "<style scoped>\n",
              "    .dataframe tbody tr th:only-of-type {\n",
              "        vertical-align: middle;\n",
              "    }\n",
              "\n",
              "    .dataframe tbody tr th {\n",
              "        vertical-align: top;\n",
              "    }\n",
              "\n",
              "    .dataframe thead th {\n",
              "        text-align: right;\n",
              "    }\n",
              "</style>\n",
              "<table border=\"1\" class=\"dataframe\">\n",
              "  <thead>\n",
              "    <tr style=\"text-align: right;\">\n",
              "      <th></th>\n",
              "      <th>rec_id</th>\n",
              "      <th>database_id</th>\n",
              "      <th>Blooom_filters</th>\n",
              "    </tr>\n",
              "  </thead>\n",
              "  <tbody>\n",
              "    <tr>\n",
              "      <th>0</th>\n",
              "      <td>04489635</td>\n",
              "      <td>1</td>\n",
              "      <td>[0, 0, 0, 0, 0, 0, 0, 0, 0, 0, 0, 0, 0, 0, 0, ...</td>\n",
              "    </tr>\n",
              "    <tr>\n",
              "      <th>1</th>\n",
              "      <td>03597241</td>\n",
              "      <td>1</td>\n",
              "      <td>[0, 0, 0, 0, 0, 0, 0, 0, 0, 1, 0, 0, 0, 0, 0, ...</td>\n",
              "    </tr>\n",
              "    <tr>\n",
              "      <th>2</th>\n",
              "      <td>07621378</td>\n",
              "      <td>1</td>\n",
              "      <td>[0, 0, 0, 0, 0, 0, 0, 0, 0, 0, 0, 0, 0, 0, 0, ...</td>\n",
              "    </tr>\n",
              "    <tr>\n",
              "      <th>3</th>\n",
              "      <td>05029442</td>\n",
              "      <td>1</td>\n",
              "      <td>[0, 0, 0, 0, 0, 0, 0, 0, 0, 0, 0, 0, 0, 0, 0, ...</td>\n",
              "    </tr>\n",
              "    <tr>\n",
              "      <th>4</th>\n",
              "      <td>06845956</td>\n",
              "      <td>1</td>\n",
              "      <td>[0, 0, 0, 0, 0, 0, 0, 0, 0, 0, 0, 0, 0, 0, 0, ...</td>\n",
              "    </tr>\n",
              "  </tbody>\n",
              "</table>\n",
              "</div>\n",
              "      <button class=\"colab-df-convert\" onclick=\"convertToInteractive('df-9d22f085-140c-4c2e-b88c-b74087d9fc8c')\"\n",
              "              title=\"Convert this dataframe to an interactive table.\"\n",
              "              style=\"display:none;\">\n",
              "        \n",
              "  <svg xmlns=\"http://www.w3.org/2000/svg\" height=\"24px\"viewBox=\"0 0 24 24\"\n",
              "       width=\"24px\">\n",
              "    <path d=\"M0 0h24v24H0V0z\" fill=\"none\"/>\n",
              "    <path d=\"M18.56 5.44l.94 2.06.94-2.06 2.06-.94-2.06-.94-.94-2.06-.94 2.06-2.06.94zm-11 1L8.5 8.5l.94-2.06 2.06-.94-2.06-.94L8.5 2.5l-.94 2.06-2.06.94zm10 10l.94 2.06.94-2.06 2.06-.94-2.06-.94-.94-2.06-.94 2.06-2.06.94z\"/><path d=\"M17.41 7.96l-1.37-1.37c-.4-.4-.92-.59-1.43-.59-.52 0-1.04.2-1.43.59L10.3 9.45l-7.72 7.72c-.78.78-.78 2.05 0 2.83L4 21.41c.39.39.9.59 1.41.59.51 0 1.02-.2 1.41-.59l7.78-7.78 2.81-2.81c.8-.78.8-2.07 0-2.86zM5.41 20L4 18.59l7.72-7.72 1.47 1.35L5.41 20z\"/>\n",
              "  </svg>\n",
              "      </button>\n",
              "      \n",
              "  <style>\n",
              "    .colab-df-container {\n",
              "      display:flex;\n",
              "      flex-wrap:wrap;\n",
              "      gap: 12px;\n",
              "    }\n",
              "\n",
              "    .colab-df-convert {\n",
              "      background-color: #E8F0FE;\n",
              "      border: none;\n",
              "      border-radius: 50%;\n",
              "      cursor: pointer;\n",
              "      display: none;\n",
              "      fill: #1967D2;\n",
              "      height: 32px;\n",
              "      padding: 0 0 0 0;\n",
              "      width: 32px;\n",
              "    }\n",
              "\n",
              "    .colab-df-convert:hover {\n",
              "      background-color: #E2EBFA;\n",
              "      box-shadow: 0px 1px 2px rgba(60, 64, 67, 0.3), 0px 1px 3px 1px rgba(60, 64, 67, 0.15);\n",
              "      fill: #174EA6;\n",
              "    }\n",
              "\n",
              "    [theme=dark] .colab-df-convert {\n",
              "      background-color: #3B4455;\n",
              "      fill: #D2E3FC;\n",
              "    }\n",
              "\n",
              "    [theme=dark] .colab-df-convert:hover {\n",
              "      background-color: #434B5C;\n",
              "      box-shadow: 0px 1px 3px 1px rgba(0, 0, 0, 0.15);\n",
              "      filter: drop-shadow(0px 1px 2px rgba(0, 0, 0, 0.3));\n",
              "      fill: #FFFFFF;\n",
              "    }\n",
              "  </style>\n",
              "\n",
              "      <script>\n",
              "        const buttonEl =\n",
              "          document.querySelector('#df-9d22f085-140c-4c2e-b88c-b74087d9fc8c button.colab-df-convert');\n",
              "        buttonEl.style.display =\n",
              "          google.colab.kernel.accessAllowed ? 'block' : 'none';\n",
              "\n",
              "        async function convertToInteractive(key) {\n",
              "          const element = document.querySelector('#df-9d22f085-140c-4c2e-b88c-b74087d9fc8c');\n",
              "          const dataTable =\n",
              "            await google.colab.kernel.invokeFunction('convertToInteractive',\n",
              "                                                     [key], {});\n",
              "          if (!dataTable) return;\n",
              "\n",
              "          const docLinkHtml = 'Like what you see? Visit the ' +\n",
              "            '<a target=\"_blank\" href=https://colab.research.google.com/notebooks/data_table.ipynb>data table notebook</a>'\n",
              "            + ' to learn more about interactive tables.';\n",
              "          element.innerHTML = '';\n",
              "          dataTable['output_type'] = 'display_data';\n",
              "          await google.colab.output.renderOutput(dataTable, element);\n",
              "          const docLink = document.createElement('div');\n",
              "          docLink.innerHTML = docLinkHtml;\n",
              "          element.appendChild(docLink);\n",
              "        }\n",
              "      </script>\n",
              "    </div>\n",
              "  </div>\n",
              "  "
            ]
          },
          "metadata": {},
          "execution_count": 26
        }
      ]
    },
    {
      "cell_type": "markdown",
      "metadata": {
        "id": "sMB2YyYQz4N5"
      },
      "source": [
        "# Clustering"
      ]
    },
    {
      "cell_type": "code",
      "execution_count": null,
      "metadata": {
        "id": "Yfssxbk5dy2b",
        "colab": {
          "base_uri": "https://localhost:8080/"
        },
        "outputId": "ad31f3fc-975e-48bc-9b24-e9ba70942b22"
      },
      "outputs": [
        {
          "output_type": "stream",
          "name": "stdout",
          "text": [
            "0.8018727991065326 ,  155\n"
          ]
        }
      ],
      "source": [
        "counter = -1\n",
        "counter_clus = 0\n",
        "num_clusters = 2\n",
        "for i in range(len(First3Table)):\n",
        "  Maincluster = AgglomerativeClustering(n_clusters = num_clusters).fit(listBF) # 50 is optimal number of clusters \n",
        "  evaluation = silhouette_score(listBF, Maincluster.labels_)\n",
        "  if evaluation > counter:\n",
        "    counter = evaluation\n",
        "    counter_clus = num_clusters\n",
        "  num_clusters += 1\n",
        "  if num_clusters == len(First3Table)-1:\n",
        "    break\n",
        "print(counter , \", \", counter_clus) # optimal number of cluster and percentage\n"
      ]
    },
    {
      "cell_type": "code",
      "source": [
        "Maincluster = AgglomerativeClustering(n_clusters = 155).fit(listBF)"
      ],
      "metadata": {
        "id": "CpFPMpKoDunI"
      },
      "execution_count": null,
      "outputs": []
    },
    {
      "cell_type": "code",
      "execution_count": null,
      "metadata": {
        "colab": {
          "base_uri": "https://localhost:8080/"
        },
        "id": "RywdF7B7g2J-",
        "outputId": "7dcf7fcc-826a-4d49-a206-8905e77cb4fe"
      },
      "outputs": [
        {
          "output_type": "execute_result",
          "data": {
            "text/plain": [
              "array([123,  43,  97,   8,  44, 106,  27,  48,  32,  75])"
            ]
          },
          "metadata": {},
          "execution_count": 29
        }
      ],
      "source": [
        "Maincluster.labels_[:10]"
      ]
    },
    {
      "cell_type": "code",
      "execution_count": null,
      "metadata": {
        "colab": {
          "base_uri": "https://localhost:8080/",
          "height": 206
        },
        "id": "HR2qKHIOsaoX",
        "outputId": "cc42f6e0-2ef9-48a6-ee79-0b598e7884fd"
      },
      "outputs": [
        {
          "output_type": "execute_result",
          "data": {
            "text/plain": [
              "   cluster_id                                                 BF\n",
              "0         123  [0, 0, 0, 0, 0, 0, 0, 0, 0, 0, 0, 0, 0, 0, 0, ...\n",
              "1          43  [0, 0, 0, 0, 0, 0, 0, 0, 0, 1, 0, 0, 0, 0, 0, ...\n",
              "2          97  [0, 0, 0, 0, 0, 0, 0, 0, 0, 0, 0, 0, 0, 0, 0, ...\n",
              "3           8  [0, 0, 0, 0, 0, 0, 0, 0, 0, 0, 0, 0, 0, 0, 0, ...\n",
              "4          44  [0, 0, 0, 0, 0, 0, 0, 0, 0, 0, 0, 0, 0, 0, 0, ..."
            ],
            "text/html": [
              "\n",
              "  <div id=\"df-59ffc177-aa3f-46d1-88a6-6028364152a7\">\n",
              "    <div class=\"colab-df-container\">\n",
              "      <div>\n",
              "<style scoped>\n",
              "    .dataframe tbody tr th:only-of-type {\n",
              "        vertical-align: middle;\n",
              "    }\n",
              "\n",
              "    .dataframe tbody tr th {\n",
              "        vertical-align: top;\n",
              "    }\n",
              "\n",
              "    .dataframe thead th {\n",
              "        text-align: right;\n",
              "    }\n",
              "</style>\n",
              "<table border=\"1\" class=\"dataframe\">\n",
              "  <thead>\n",
              "    <tr style=\"text-align: right;\">\n",
              "      <th></th>\n",
              "      <th>cluster_id</th>\n",
              "      <th>BF</th>\n",
              "    </tr>\n",
              "  </thead>\n",
              "  <tbody>\n",
              "    <tr>\n",
              "      <th>0</th>\n",
              "      <td>123</td>\n",
              "      <td>[0, 0, 0, 0, 0, 0, 0, 0, 0, 0, 0, 0, 0, 0, 0, ...</td>\n",
              "    </tr>\n",
              "    <tr>\n",
              "      <th>1</th>\n",
              "      <td>43</td>\n",
              "      <td>[0, 0, 0, 0, 0, 0, 0, 0, 0, 1, 0, 0, 0, 0, 0, ...</td>\n",
              "    </tr>\n",
              "    <tr>\n",
              "      <th>2</th>\n",
              "      <td>97</td>\n",
              "      <td>[0, 0, 0, 0, 0, 0, 0, 0, 0, 0, 0, 0, 0, 0, 0, ...</td>\n",
              "    </tr>\n",
              "    <tr>\n",
              "      <th>3</th>\n",
              "      <td>8</td>\n",
              "      <td>[0, 0, 0, 0, 0, 0, 0, 0, 0, 0, 0, 0, 0, 0, 0, ...</td>\n",
              "    </tr>\n",
              "    <tr>\n",
              "      <th>4</th>\n",
              "      <td>44</td>\n",
              "      <td>[0, 0, 0, 0, 0, 0, 0, 0, 0, 0, 0, 0, 0, 0, 0, ...</td>\n",
              "    </tr>\n",
              "  </tbody>\n",
              "</table>\n",
              "</div>\n",
              "      <button class=\"colab-df-convert\" onclick=\"convertToInteractive('df-59ffc177-aa3f-46d1-88a6-6028364152a7')\"\n",
              "              title=\"Convert this dataframe to an interactive table.\"\n",
              "              style=\"display:none;\">\n",
              "        \n",
              "  <svg xmlns=\"http://www.w3.org/2000/svg\" height=\"24px\"viewBox=\"0 0 24 24\"\n",
              "       width=\"24px\">\n",
              "    <path d=\"M0 0h24v24H0V0z\" fill=\"none\"/>\n",
              "    <path d=\"M18.56 5.44l.94 2.06.94-2.06 2.06-.94-2.06-.94-.94-2.06-.94 2.06-2.06.94zm-11 1L8.5 8.5l.94-2.06 2.06-.94-2.06-.94L8.5 2.5l-.94 2.06-2.06.94zm10 10l.94 2.06.94-2.06 2.06-.94-2.06-.94-.94-2.06-.94 2.06-2.06.94z\"/><path d=\"M17.41 7.96l-1.37-1.37c-.4-.4-.92-.59-1.43-.59-.52 0-1.04.2-1.43.59L10.3 9.45l-7.72 7.72c-.78.78-.78 2.05 0 2.83L4 21.41c.39.39.9.59 1.41.59.51 0 1.02-.2 1.41-.59l7.78-7.78 2.81-2.81c.8-.78.8-2.07 0-2.86zM5.41 20L4 18.59l7.72-7.72 1.47 1.35L5.41 20z\"/>\n",
              "  </svg>\n",
              "      </button>\n",
              "      \n",
              "  <style>\n",
              "    .colab-df-container {\n",
              "      display:flex;\n",
              "      flex-wrap:wrap;\n",
              "      gap: 12px;\n",
              "    }\n",
              "\n",
              "    .colab-df-convert {\n",
              "      background-color: #E8F0FE;\n",
              "      border: none;\n",
              "      border-radius: 50%;\n",
              "      cursor: pointer;\n",
              "      display: none;\n",
              "      fill: #1967D2;\n",
              "      height: 32px;\n",
              "      padding: 0 0 0 0;\n",
              "      width: 32px;\n",
              "    }\n",
              "\n",
              "    .colab-df-convert:hover {\n",
              "      background-color: #E2EBFA;\n",
              "      box-shadow: 0px 1px 2px rgba(60, 64, 67, 0.3), 0px 1px 3px 1px rgba(60, 64, 67, 0.15);\n",
              "      fill: #174EA6;\n",
              "    }\n",
              "\n",
              "    [theme=dark] .colab-df-convert {\n",
              "      background-color: #3B4455;\n",
              "      fill: #D2E3FC;\n",
              "    }\n",
              "\n",
              "    [theme=dark] .colab-df-convert:hover {\n",
              "      background-color: #434B5C;\n",
              "      box-shadow: 0px 1px 3px 1px rgba(0, 0, 0, 0.15);\n",
              "      filter: drop-shadow(0px 1px 2px rgba(0, 0, 0, 0.3));\n",
              "      fill: #FFFFFF;\n",
              "    }\n",
              "  </style>\n",
              "\n",
              "      <script>\n",
              "        const buttonEl =\n",
              "          document.querySelector('#df-59ffc177-aa3f-46d1-88a6-6028364152a7 button.colab-df-convert');\n",
              "        buttonEl.style.display =\n",
              "          google.colab.kernel.accessAllowed ? 'block' : 'none';\n",
              "\n",
              "        async function convertToInteractive(key) {\n",
              "          const element = document.querySelector('#df-59ffc177-aa3f-46d1-88a6-6028364152a7');\n",
              "          const dataTable =\n",
              "            await google.colab.kernel.invokeFunction('convertToInteractive',\n",
              "                                                     [key], {});\n",
              "          if (!dataTable) return;\n",
              "\n",
              "          const docLinkHtml = 'Like what you see? Visit the ' +\n",
              "            '<a target=\"_blank\" href=https://colab.research.google.com/notebooks/data_table.ipynb>data table notebook</a>'\n",
              "            + ' to learn more about interactive tables.';\n",
              "          element.innerHTML = '';\n",
              "          dataTable['output_type'] = 'display_data';\n",
              "          await google.colab.output.renderOutput(dataTable, element);\n",
              "          const docLink = document.createElement('div');\n",
              "          docLink.innerHTML = docLinkHtml;\n",
              "          element.appendChild(docLink);\n",
              "        }\n",
              "      </script>\n",
              "    </div>\n",
              "  </div>\n",
              "  "
            ]
          },
          "metadata": {},
          "execution_count": 30
        }
      ],
      "source": [
        "cluster_map = pd.DataFrame() ## n_clusters = 1274 \n",
        "cluster_map['cluster_id'] = Maincluster.labels_\n",
        "cluster_map['BF'] = listBF\n",
        "cluster_map.head() # bloomFilter and it cluster"
      ]
    },
    {
      "cell_type": "code",
      "execution_count": null,
      "metadata": {
        "colab": {
          "base_uri": "https://localhost:8080/"
        },
        "id": "cvd_Y3fTvPcQ",
        "outputId": "174b57d4-cca7-4a8d-eab8-7593130b1223"
      },
      "outputs": [
        {
          "output_type": "execute_result",
          "data": {
            "text/plain": [
              "2"
            ]
          },
          "metadata": {},
          "execution_count": 31
        }
      ],
      "source": [
        "rslt_df = cluster_map[cluster_map['cluster_id'] == 0] #number of all the records in cluster 0  \n",
        "len(rslt_df)"
      ]
    },
    {
      "cell_type": "markdown",
      "metadata": {
        "id": "xyBAFE28f1nb"
      },
      "source": [
        "# Use SQL database to store the dataframe generated by the first 3 csv records  "
      ]
    },
    {
      "cell_type": "code",
      "execution_count": null,
      "metadata": {
        "colab": {
          "base_uri": "https://localhost:8080/",
          "height": 112
        },
        "id": "Gn2dqCeNxv86",
        "outputId": "3c1c7fe0-e1a0-4bde-e9c8-bbb4d3f19a10"
      },
      "outputs": [
        {
          "output_type": "execute_result",
          "data": {
            "text/plain": [
              "     cluster_id                                                 BF\n",
              "222           0  [0, 0, 0, 0, 0, 0, 0, 0, 0, 0, 0, 0, 0, 0, 0, ...\n",
              "253           0  [0, 0, 0, 0, 0, 0, 0, 0, 0, 0, 0, 0, 0, 0, 0, ..."
            ],
            "text/html": [
              "\n",
              "  <div id=\"df-4a1eb7a1-adc8-4c9d-85f5-f7f12d12de1f\">\n",
              "    <div class=\"colab-df-container\">\n",
              "      <div>\n",
              "<style scoped>\n",
              "    .dataframe tbody tr th:only-of-type {\n",
              "        vertical-align: middle;\n",
              "    }\n",
              "\n",
              "    .dataframe tbody tr th {\n",
              "        vertical-align: top;\n",
              "    }\n",
              "\n",
              "    .dataframe thead th {\n",
              "        text-align: right;\n",
              "    }\n",
              "</style>\n",
              "<table border=\"1\" class=\"dataframe\">\n",
              "  <thead>\n",
              "    <tr style=\"text-align: right;\">\n",
              "      <th></th>\n",
              "      <th>cluster_id</th>\n",
              "      <th>BF</th>\n",
              "    </tr>\n",
              "  </thead>\n",
              "  <tbody>\n",
              "    <tr>\n",
              "      <th>222</th>\n",
              "      <td>0</td>\n",
              "      <td>[0, 0, 0, 0, 0, 0, 0, 0, 0, 0, 0, 0, 0, 0, 0, ...</td>\n",
              "    </tr>\n",
              "    <tr>\n",
              "      <th>253</th>\n",
              "      <td>0</td>\n",
              "      <td>[0, 0, 0, 0, 0, 0, 0, 0, 0, 0, 0, 0, 0, 0, 0, ...</td>\n",
              "    </tr>\n",
              "  </tbody>\n",
              "</table>\n",
              "</div>\n",
              "      <button class=\"colab-df-convert\" onclick=\"convertToInteractive('df-4a1eb7a1-adc8-4c9d-85f5-f7f12d12de1f')\"\n",
              "              title=\"Convert this dataframe to an interactive table.\"\n",
              "              style=\"display:none;\">\n",
              "        \n",
              "  <svg xmlns=\"http://www.w3.org/2000/svg\" height=\"24px\"viewBox=\"0 0 24 24\"\n",
              "       width=\"24px\">\n",
              "    <path d=\"M0 0h24v24H0V0z\" fill=\"none\"/>\n",
              "    <path d=\"M18.56 5.44l.94 2.06.94-2.06 2.06-.94-2.06-.94-.94-2.06-.94 2.06-2.06.94zm-11 1L8.5 8.5l.94-2.06 2.06-.94-2.06-.94L8.5 2.5l-.94 2.06-2.06.94zm10 10l.94 2.06.94-2.06 2.06-.94-2.06-.94-.94-2.06-.94 2.06-2.06.94z\"/><path d=\"M17.41 7.96l-1.37-1.37c-.4-.4-.92-.59-1.43-.59-.52 0-1.04.2-1.43.59L10.3 9.45l-7.72 7.72c-.78.78-.78 2.05 0 2.83L4 21.41c.39.39.9.59 1.41.59.51 0 1.02-.2 1.41-.59l7.78-7.78 2.81-2.81c.8-.78.8-2.07 0-2.86zM5.41 20L4 18.59l7.72-7.72 1.47 1.35L5.41 20z\"/>\n",
              "  </svg>\n",
              "      </button>\n",
              "      \n",
              "  <style>\n",
              "    .colab-df-container {\n",
              "      display:flex;\n",
              "      flex-wrap:wrap;\n",
              "      gap: 12px;\n",
              "    }\n",
              "\n",
              "    .colab-df-convert {\n",
              "      background-color: #E8F0FE;\n",
              "      border: none;\n",
              "      border-radius: 50%;\n",
              "      cursor: pointer;\n",
              "      display: none;\n",
              "      fill: #1967D2;\n",
              "      height: 32px;\n",
              "      padding: 0 0 0 0;\n",
              "      width: 32px;\n",
              "    }\n",
              "\n",
              "    .colab-df-convert:hover {\n",
              "      background-color: #E2EBFA;\n",
              "      box-shadow: 0px 1px 2px rgba(60, 64, 67, 0.3), 0px 1px 3px 1px rgba(60, 64, 67, 0.15);\n",
              "      fill: #174EA6;\n",
              "    }\n",
              "\n",
              "    [theme=dark] .colab-df-convert {\n",
              "      background-color: #3B4455;\n",
              "      fill: #D2E3FC;\n",
              "    }\n",
              "\n",
              "    [theme=dark] .colab-df-convert:hover {\n",
              "      background-color: #434B5C;\n",
              "      box-shadow: 0px 1px 3px 1px rgba(0, 0, 0, 0.15);\n",
              "      filter: drop-shadow(0px 1px 2px rgba(0, 0, 0, 0.3));\n",
              "      fill: #FFFFFF;\n",
              "    }\n",
              "  </style>\n",
              "\n",
              "      <script>\n",
              "        const buttonEl =\n",
              "          document.querySelector('#df-4a1eb7a1-adc8-4c9d-85f5-f7f12d12de1f button.colab-df-convert');\n",
              "        buttonEl.style.display =\n",
              "          google.colab.kernel.accessAllowed ? 'block' : 'none';\n",
              "\n",
              "        async function convertToInteractive(key) {\n",
              "          const element = document.querySelector('#df-4a1eb7a1-adc8-4c9d-85f5-f7f12d12de1f');\n",
              "          const dataTable =\n",
              "            await google.colab.kernel.invokeFunction('convertToInteractive',\n",
              "                                                     [key], {});\n",
              "          if (!dataTable) return;\n",
              "\n",
              "          const docLinkHtml = 'Like what you see? Visit the ' +\n",
              "            '<a target=\"_blank\" href=https://colab.research.google.com/notebooks/data_table.ipynb>data table notebook</a>'\n",
              "            + ' to learn more about interactive tables.';\n",
              "          element.innerHTML = '';\n",
              "          dataTable['output_type'] = 'display_data';\n",
              "          await google.colab.output.renderOutput(dataTable, element);\n",
              "          const docLink = document.createElement('div');\n",
              "          docLink.innerHTML = docLinkHtml;\n",
              "          element.appendChild(docLink);\n",
              "        }\n",
              "      </script>\n",
              "    </div>\n",
              "  </div>\n",
              "  "
            ]
          },
          "metadata": {},
          "execution_count": 32
        }
      ],
      "source": [
        "rslt_df #checking cluster "
      ]
    },
    {
      "cell_type": "code",
      "execution_count": null,
      "metadata": {
        "id": "1DOcG_28hutV"
      },
      "outputs": [],
      "source": [
        "# import packages for a SQL server\n",
        "import numpy as np  \n",
        "import sqlite3 #\n",
        "from sqlalchemy import create_engine "
      ]
    },
    {
      "cell_type": "code",
      "execution_count": null,
      "metadata": {
        "id": "EMGh16wHVIyI"
      },
      "outputs": [],
      "source": [
        "# Using SQL = Pandas uses memory and will hold dataframes in RAM.\n",
        "# The maximum storage will be equal to RAM.\n",
        "# SQL on the other hand uses storage to store data.\n",
        "# Use \n",
        "\n",
        "#1. save the clustered data to a SQL database\n",
        "#2. save more incoming data to clustered database\n",
        "#3. make a class solution where you can dynamically store and process these values"
      ]
    },
    {
      "cell_type": "code",
      "execution_count": null,
      "metadata": {
        "colab": {
          "base_uri": "https://localhost:8080/",
          "height": 189
        },
        "id": "scY0erEzfzis",
        "outputId": "c2980e32-5879-41c3-cf61-d1531bc9a8d4"
      },
      "outputs": [
        {
          "output_type": "error",
          "ename": "NameError",
          "evalue": "ignored",
          "traceback": [
            "\u001b[0;31m---------------------------------------------------------------------------\u001b[0m",
            "\u001b[0;31mNameError\u001b[0m                                 Traceback (most recent call last)",
            "\u001b[0;32m<ipython-input-35-336e889b14ed>\u001b[0m in \u001b[0;36m<module>\u001b[0;34m\u001b[0m\n\u001b[0;32m----> 1\u001b[0;31m \u001b[0mcav_database\u001b[0m \u001b[0;34m=\u001b[0m \u001b[0mcreate\u001b[0m\u001b[0;34m-\u001b[0m\u001b[0mengine\u001b[0m\u001b[0;34m\u001b[0m\u001b[0;34m\u001b[0m\u001b[0m\n\u001b[0m\u001b[1;32m      2\u001b[0m \u001b[0;31m# create a connector to a database\u001b[0m\u001b[0;34m\u001b[0m\u001b[0;34m\u001b[0m\u001b[0;34m\u001b[0m\u001b[0m\n",
            "\u001b[0;31mNameError\u001b[0m: name 'create' is not defined"
          ]
        }
      ],
      "source": [
        "cav_database = create-engine\n",
        "# create a connector to a database \n"
      ]
    },
    {
      "cell_type": "markdown",
      "metadata": {
        "id": "YfKW8hR0zSGZ"
      },
      "source": [
        "# Data Linkage"
      ]
    },
    {
      "cell_type": "code",
      "execution_count": null,
      "metadata": {
        "id": "ndlYuXjpzXUO"
      },
      "outputs": [],
      "source": [
        "# finding an efficient way to link the new record (from 4 and 5 ) to the appropraite cluster"
      ]
    },
    {
      "cell_type": "code",
      "source": [
        "#second method \n",
        "#second method - go find each cluster and find the average of the cluster \n",
        "listexp = list()\n",
        "averages = dict()\n",
        "for i in range(counter_clus): \n",
        "  for j in range(len(cluster_map)): #loop through the cluster_map table\n",
        "    if cluster_map.iloc[j, 0] == i: #identify a single cluster id and store it binary record in a temporary list\n",
        "      listexp.append(cluster_map.iloc[j, 1])\n",
        "  res = list()\n",
        "  for y in range(len(listexp[0])):\n",
        "    tempList = list()\n",
        "    for k in range(len(listexp)):\n",
        "      flow = listexp[k].to01()\n",
        "      tempList.append(int(flow[y]))\n",
        "    res.append(round(mean(tempList), 6))\n",
        "  averages[i] = res"
      ],
      "metadata": {
        "id": "L6aeRfjQk0LQ"
      },
      "execution_count": null,
      "outputs": []
    },
    {
      "cell_type": "code",
      "source": [
        "averages[0]"
      ],
      "metadata": {
        "colab": {
          "base_uri": "https://localhost:8080/"
        },
        "id": "KyyHSgfSqSbF",
        "outputId": "3f422a12-2c80-41c5-a4cc-2370fca02f4d"
      },
      "execution_count": null,
      "outputs": [
        {
          "output_type": "execute_result",
          "data": {
            "text/plain": [
              "[0,\n",
              " 0,\n",
              " 0,\n",
              " 0,\n",
              " 0,\n",
              " 0,\n",
              " 0,\n",
              " 0,\n",
              " 0,\n",
              " 0,\n",
              " 0,\n",
              " 0,\n",
              " 0,\n",
              " 0,\n",
              " 0,\n",
              " 0,\n",
              " 0,\n",
              " 0,\n",
              " 0,\n",
              " 0,\n",
              " 0,\n",
              " 0,\n",
              " 0,\n",
              " 0.5,\n",
              " 0,\n",
              " 0,\n",
              " 0,\n",
              " 0,\n",
              " 0,\n",
              " 0,\n",
              " 0,\n",
              " 0,\n",
              " 1,\n",
              " 0,\n",
              " 0,\n",
              " 0,\n",
              " 0,\n",
              " 0,\n",
              " 0,\n",
              " 0.5,\n",
              " 0,\n",
              " 0,\n",
              " 0,\n",
              " 0,\n",
              " 0,\n",
              " 0,\n",
              " 0,\n",
              " 0,\n",
              " 0,\n",
              " 0]"
            ]
          },
          "metadata": {},
          "execution_count": 38
        }
      ]
    },
    {
      "cell_type": "markdown",
      "metadata": {
        "id": "WXqOrsU67sjC"
      },
      "source": [
        "# Dynamic Update"
      ]
    },
    {
      "cell_type": "code",
      "execution_count": null,
      "metadata": {
        "id": "9X8kXlzjeuwk",
        "colab": {
          "base_uri": "https://localhost:8080/",
          "height": 262
        },
        "outputId": "84a68909-bb65-4312-e970-51ffc1233cb9"
      },
      "outputs": [
        {
          "output_type": "error",
          "ename": "TypeError",
          "evalue": "ignored",
          "traceback": [
            "\u001b[0;31m---------------------------------------------------------------------------\u001b[0m",
            "\u001b[0;31mTypeError\u001b[0m                                 Traceback (most recent call last)",
            "\u001b[0;32m<ipython-input-39-3839d115f378>\u001b[0m in \u001b[0;36m<module>\u001b[0;34m\u001b[0m\n\u001b[1;32m      9\u001b[0m   \u001b[0;31m#the next stage is used to balance the length of each bloom filter from the averages list.(when getting the average the length of the bloom filter changes)\u001b[0m\u001b[0;34m\u001b[0m\u001b[0;34m\u001b[0m\u001b[0;34m\u001b[0m\u001b[0m\n\u001b[1;32m     10\u001b[0m   \u001b[0;32mfor\u001b[0m \u001b[0mk1\u001b[0m \u001b[0;32min\u001b[0m \u001b[0maverages\u001b[0m\u001b[0;34m.\u001b[0m\u001b[0mkeys\u001b[0m\u001b[0;34m(\u001b[0m\u001b[0;34m)\u001b[0m\u001b[0;34m:\u001b[0m\u001b[0;34m\u001b[0m\u001b[0;34m\u001b[0m\u001b[0m\n\u001b[0;32m---> 11\u001b[0;31m     \u001b[0mstore\u001b[0m \u001b[0;34m=\u001b[0m \u001b[0mbitarray\u001b[0m\u001b[0;34m(\u001b[0m\u001b[0maverages\u001b[0m\u001b[0;34m[\u001b[0m\u001b[0mk1\u001b[0m\u001b[0;34m]\u001b[0m\u001b[0;34m)\u001b[0m\u001b[0;34m\u001b[0m\u001b[0;34m\u001b[0m\u001b[0m\n\u001b[0m\u001b[1;32m     12\u001b[0m \u001b[0;31m# for each record from 4th csv file, compare the similarity with each cluster average to the get the optimal cluster it belongs to.\u001b[0m\u001b[0;34m\u001b[0m\u001b[0;34m\u001b[0m\u001b[0;34m\u001b[0m\u001b[0m\n\u001b[1;32m     13\u001b[0m     \u001b[0;32mif\u001b[0m \u001b[0mbf\u001b[0m\u001b[0;34m.\u001b[0m\u001b[0mcalc_bf_sim\u001b[0m\u001b[0;34m(\u001b[0m\u001b[0mbf4\u001b[0m\u001b[0;34m,\u001b[0m\u001b[0mstore\u001b[0m\u001b[0;34m)\u001b[0m \u001b[0;34m>=\u001b[0m \u001b[0mscore\u001b[0m\u001b[0;34m:\u001b[0m\u001b[0;34m\u001b[0m\u001b[0;34m\u001b[0m\u001b[0m\n",
            "\u001b[0;31mTypeError\u001b[0m: 'float' object cannot be interpreted as an integer"
          ]
        }
      ],
      "source": [
        "# the code below aim to find the best cluster id for incoming record from 4th csv file.  //////// Mean vector should have the same length //////// list of values, \n",
        "\n",
        "keep = 0\n",
        "score = 0\n",
        "for k, v in rec_db4.items(): # loop through the row of 4th csv file for each record\n",
        "  store = v[0]+ v[1]+ v[2]+ v[3]\n",
        "  val4_set = [store]\n",
        "  bf4 = bf.set_to_bloom_filter(val4_set)# attain bloom filter for each record\n",
        "  #the next stage is used to balance the length of each bloom filter from the averages list.(when getting the average the length of the bloom filter changes)\n",
        "  for k1 in averages.keys():\n",
        "    store = bitarray(averages[k1])\n",
        "# for each record from 4th csv file, compare the similarity with each cluster average to the get the optimal cluster it belongs to.       \n",
        "    if bf.calc_bf_sim(bf4,store) >= score:\n",
        "      keep = k1\n",
        "      store = bitarray(averages[k1])\n",
        "  cluster_map.loc[len(cluster_map)+1] = [keep, bf4] #add the new record to the cluster map table "
      ]
    },
    {
      "cell_type": "code",
      "execution_count": null,
      "metadata": {
        "id": "KwzkbJPkD4hR",
        "colab": {
          "base_uri": "https://localhost:8080/",
          "height": 244
        },
        "outputId": "c26063f6-5894-425e-e20d-d171ae4cbbca"
      },
      "outputs": [
        {
          "output_type": "error",
          "ename": "TypeError",
          "evalue": "ignored",
          "traceback": [
            "\u001b[0;31m---------------------------------------------------------------------------\u001b[0m",
            "\u001b[0;31mTypeError\u001b[0m                                 Traceback (most recent call last)",
            "\u001b[0;32m<ipython-input-40-e77b2b773195>\u001b[0m in \u001b[0;36m<module>\u001b[0;34m\u001b[0m\n\u001b[1;32m      7\u001b[0m   \u001b[0mbf5\u001b[0m \u001b[0;34m=\u001b[0m \u001b[0mbf\u001b[0m\u001b[0;34m.\u001b[0m\u001b[0mset_to_bloom_filter\u001b[0m\u001b[0;34m(\u001b[0m\u001b[0mval5_set\u001b[0m\u001b[0;34m)\u001b[0m\u001b[0;34m\u001b[0m\u001b[0;34m\u001b[0m\u001b[0m\n\u001b[1;32m      8\u001b[0m   \u001b[0;32mfor\u001b[0m \u001b[0mk1\u001b[0m \u001b[0;32min\u001b[0m \u001b[0maverages\u001b[0m\u001b[0;34m.\u001b[0m\u001b[0mkeys\u001b[0m\u001b[0;34m(\u001b[0m\u001b[0;34m)\u001b[0m\u001b[0;34m:\u001b[0m\u001b[0;34m\u001b[0m\u001b[0;34m\u001b[0m\u001b[0m\n\u001b[0;32m----> 9\u001b[0;31m     \u001b[0mstore\u001b[0m \u001b[0;34m=\u001b[0m \u001b[0mbitarray\u001b[0m\u001b[0;34m(\u001b[0m\u001b[0maverages\u001b[0m\u001b[0;34m[\u001b[0m\u001b[0mk1\u001b[0m\u001b[0;34m]\u001b[0m\u001b[0;34m)\u001b[0m\u001b[0;34m\u001b[0m\u001b[0;34m\u001b[0m\u001b[0m\n\u001b[0m\u001b[1;32m     10\u001b[0m     \u001b[0;32mif\u001b[0m \u001b[0mbf\u001b[0m\u001b[0;34m.\u001b[0m\u001b[0mcalc_bf_sim\u001b[0m\u001b[0;34m(\u001b[0m\u001b[0mbf5\u001b[0m\u001b[0;34m,\u001b[0m\u001b[0mstore\u001b[0m\u001b[0;34m)\u001b[0m \u001b[0;34m>=\u001b[0m \u001b[0mscore\u001b[0m\u001b[0;34m:\u001b[0m\u001b[0;34m\u001b[0m\u001b[0;34m\u001b[0m\u001b[0m\n\u001b[1;32m     11\u001b[0m       \u001b[0mkeep\u001b[0m \u001b[0;34m=\u001b[0m \u001b[0mk1\u001b[0m\u001b[0;34m\u001b[0m\u001b[0;34m\u001b[0m\u001b[0m\n",
            "\u001b[0;31mTypeError\u001b[0m: 'float' object cannot be interpreted as an integer"
          ]
        }
      ],
      "source": [
        "# the code is as similar to the one above, but for the 5th table\n",
        "keep = 0\n",
        "score = 0\n",
        "for k, v in rec_db5.items():\n",
        "  store = v[0]+ v[1]+ v[2]+ v[3]\n",
        "  val5_set = [store]\n",
        "  bf5 = bf.set_to_bloom_filter(val5_set)\n",
        "  for k1 in averages.keys():\n",
        "    store = bitarray(averages[k1])\n",
        "    if bf.calc_bf_sim(bf5,store) >= score:\n",
        "      keep = k1\n",
        "      store = bitarray(averages[k1])\n",
        "  cluster_map.loc[len(cluster_map)+1] = [keep, bf5]"
      ]
    },
    {
      "cell_type": "code",
      "execution_count": null,
      "metadata": {
        "id": "HIKxmiQ8f-JC",
        "colab": {
          "base_uri": "https://localhost:8080/"
        },
        "outputId": "302969dd-a697-4ae3-e386-76350e4402b5"
      },
      "outputs": [
        {
          "output_type": "execute_result",
          "data": {
            "text/plain": [
              "500"
            ]
          },
          "metadata": {},
          "execution_count": 28
        }
      ],
      "source": [
        "len(cluster_map)"
      ]
    },
    {
      "cell_type": "markdown",
      "metadata": {
        "id": "rm-B5auz-Ik2"
      },
      "source": [
        "# The next and final step \n",
        "##### Connect the cluster map table to the other table with the record id. To produce the final cvs file (result)\n"
      ]
    },
    {
      "cell_type": "code",
      "execution_count": null,
      "metadata": {
        "id": "Nc6-OPSqCRuo",
        "colab": {
          "base_uri": "https://localhost:8080/"
        },
        "outputId": "0c968f31-30ce-4517-f359-5d8107ca591a"
      },
      "outputs": [
        {
          "output_type": "execute_result",
          "data": {
            "text/plain": [
              "500"
            ]
          },
          "metadata": {},
          "execution_count": 29
        }
      ],
      "source": [
        "df_all_rows = pd.concat([df1, df2, df3, df4, df5]) # \n",
        "len(df_all_rows)"
      ]
    },
    {
      "cell_type": "code",
      "execution_count": null,
      "metadata": {
        "id": "HP2aTht2EoXW"
      },
      "outputs": [],
      "source": [
        "cluster_col = cluster_map.cluster_id.values.tolist()"
      ]
    },
    {
      "cell_type": "code",
      "execution_count": null,
      "metadata": {
        "colab": {
          "base_uri": "https://localhost:8080/",
          "height": 206
        },
        "id": "UgbqFJWWDmrx",
        "outputId": "e6959d22-1acb-4959-8edc-4a8f9e307e34"
      },
      "outputs": [
        {
          "output_type": "execute_result",
          "data": {
            "text/plain": [
              "      rec_id  database_id                                     Blooom_filters  \\\n",
              "95  06937828            5  [0, 0, 0, 0, 0, 0, 0, 0, 0, 0, 0, 0, 0, 0, 0, ...   \n",
              "96  03331940            5  [0, 0, 0, 0, 0, 0, 0, 0, 0, 0, 0, 0, 0, 0, 0, ...   \n",
              "97  02158195            5  [0, 0, 0, 0, 0, 0, 0, 0, 0, 0, 0, 0, 0, 0, 0, ...   \n",
              "98  00406646            5  [0, 0, 0, 0, 0, 0, 0, 0, 0, 0, 0, 0, 0, 0, 0, ...   \n",
              "99  08195071            5  [0, 0, 0, 0, 0, 0, 1, 0, 0, 0, 0, 0, 0, 0, 0, ...   \n",
              "\n",
              "    cluster_id  \n",
              "95           0  \n",
              "96           0  \n",
              "97           0  \n",
              "98           0  \n",
              "99           0  "
            ],
            "text/html": [
              "\n",
              "  <div id=\"df-46da614f-44f8-4ea8-9c63-1e20e5f13192\">\n",
              "    <div class=\"colab-df-container\">\n",
              "      <div>\n",
              "<style scoped>\n",
              "    .dataframe tbody tr th:only-of-type {\n",
              "        vertical-align: middle;\n",
              "    }\n",
              "\n",
              "    .dataframe tbody tr th {\n",
              "        vertical-align: top;\n",
              "    }\n",
              "\n",
              "    .dataframe thead th {\n",
              "        text-align: right;\n",
              "    }\n",
              "</style>\n",
              "<table border=\"1\" class=\"dataframe\">\n",
              "  <thead>\n",
              "    <tr style=\"text-align: right;\">\n",
              "      <th></th>\n",
              "      <th>rec_id</th>\n",
              "      <th>database_id</th>\n",
              "      <th>Blooom_filters</th>\n",
              "      <th>cluster_id</th>\n",
              "    </tr>\n",
              "  </thead>\n",
              "  <tbody>\n",
              "    <tr>\n",
              "      <th>95</th>\n",
              "      <td>06937828</td>\n",
              "      <td>5</td>\n",
              "      <td>[0, 0, 0, 0, 0, 0, 0, 0, 0, 0, 0, 0, 0, 0, 0, ...</td>\n",
              "      <td>0</td>\n",
              "    </tr>\n",
              "    <tr>\n",
              "      <th>96</th>\n",
              "      <td>03331940</td>\n",
              "      <td>5</td>\n",
              "      <td>[0, 0, 0, 0, 0, 0, 0, 0, 0, 0, 0, 0, 0, 0, 0, ...</td>\n",
              "      <td>0</td>\n",
              "    </tr>\n",
              "    <tr>\n",
              "      <th>97</th>\n",
              "      <td>02158195</td>\n",
              "      <td>5</td>\n",
              "      <td>[0, 0, 0, 0, 0, 0, 0, 0, 0, 0, 0, 0, 0, 0, 0, ...</td>\n",
              "      <td>0</td>\n",
              "    </tr>\n",
              "    <tr>\n",
              "      <th>98</th>\n",
              "      <td>00406646</td>\n",
              "      <td>5</td>\n",
              "      <td>[0, 0, 0, 0, 0, 0, 0, 0, 0, 0, 0, 0, 0, 0, 0, ...</td>\n",
              "      <td>0</td>\n",
              "    </tr>\n",
              "    <tr>\n",
              "      <th>99</th>\n",
              "      <td>08195071</td>\n",
              "      <td>5</td>\n",
              "      <td>[0, 0, 0, 0, 0, 0, 1, 0, 0, 0, 0, 0, 0, 0, 0, ...</td>\n",
              "      <td>0</td>\n",
              "    </tr>\n",
              "  </tbody>\n",
              "</table>\n",
              "</div>\n",
              "      <button class=\"colab-df-convert\" onclick=\"convertToInteractive('df-46da614f-44f8-4ea8-9c63-1e20e5f13192')\"\n",
              "              title=\"Convert this dataframe to an interactive table.\"\n",
              "              style=\"display:none;\">\n",
              "        \n",
              "  <svg xmlns=\"http://www.w3.org/2000/svg\" height=\"24px\"viewBox=\"0 0 24 24\"\n",
              "       width=\"24px\">\n",
              "    <path d=\"M0 0h24v24H0V0z\" fill=\"none\"/>\n",
              "    <path d=\"M18.56 5.44l.94 2.06.94-2.06 2.06-.94-2.06-.94-.94-2.06-.94 2.06-2.06.94zm-11 1L8.5 8.5l.94-2.06 2.06-.94-2.06-.94L8.5 2.5l-.94 2.06-2.06.94zm10 10l.94 2.06.94-2.06 2.06-.94-2.06-.94-.94-2.06-.94 2.06-2.06.94z\"/><path d=\"M17.41 7.96l-1.37-1.37c-.4-.4-.92-.59-1.43-.59-.52 0-1.04.2-1.43.59L10.3 9.45l-7.72 7.72c-.78.78-.78 2.05 0 2.83L4 21.41c.39.39.9.59 1.41.59.51 0 1.02-.2 1.41-.59l7.78-7.78 2.81-2.81c.8-.78.8-2.07 0-2.86zM5.41 20L4 18.59l7.72-7.72 1.47 1.35L5.41 20z\"/>\n",
              "  </svg>\n",
              "      </button>\n",
              "      \n",
              "  <style>\n",
              "    .colab-df-container {\n",
              "      display:flex;\n",
              "      flex-wrap:wrap;\n",
              "      gap: 12px;\n",
              "    }\n",
              "\n",
              "    .colab-df-convert {\n",
              "      background-color: #E8F0FE;\n",
              "      border: none;\n",
              "      border-radius: 50%;\n",
              "      cursor: pointer;\n",
              "      display: none;\n",
              "      fill: #1967D2;\n",
              "      height: 32px;\n",
              "      padding: 0 0 0 0;\n",
              "      width: 32px;\n",
              "    }\n",
              "\n",
              "    .colab-df-convert:hover {\n",
              "      background-color: #E2EBFA;\n",
              "      box-shadow: 0px 1px 2px rgba(60, 64, 67, 0.3), 0px 1px 3px 1px rgba(60, 64, 67, 0.15);\n",
              "      fill: #174EA6;\n",
              "    }\n",
              "\n",
              "    [theme=dark] .colab-df-convert {\n",
              "      background-color: #3B4455;\n",
              "      fill: #D2E3FC;\n",
              "    }\n",
              "\n",
              "    [theme=dark] .colab-df-convert:hover {\n",
              "      background-color: #434B5C;\n",
              "      box-shadow: 0px 1px 3px 1px rgba(0, 0, 0, 0.15);\n",
              "      filter: drop-shadow(0px 1px 2px rgba(0, 0, 0, 0.3));\n",
              "      fill: #FFFFFF;\n",
              "    }\n",
              "  </style>\n",
              "\n",
              "      <script>\n",
              "        const buttonEl =\n",
              "          document.querySelector('#df-46da614f-44f8-4ea8-9c63-1e20e5f13192 button.colab-df-convert');\n",
              "        buttonEl.style.display =\n",
              "          google.colab.kernel.accessAllowed ? 'block' : 'none';\n",
              "\n",
              "        async function convertToInteractive(key) {\n",
              "          const element = document.querySelector('#df-46da614f-44f8-4ea8-9c63-1e20e5f13192');\n",
              "          const dataTable =\n",
              "            await google.colab.kernel.invokeFunction('convertToInteractive',\n",
              "                                                     [key], {});\n",
              "          if (!dataTable) return;\n",
              "\n",
              "          const docLinkHtml = 'Like what you see? Visit the ' +\n",
              "            '<a target=\"_blank\" href=https://colab.research.google.com/notebooks/data_table.ipynb>data table notebook</a>'\n",
              "            + ' to learn more about interactive tables.';\n",
              "          element.innerHTML = '';\n",
              "          dataTable['output_type'] = 'display_data';\n",
              "          await google.colab.output.renderOutput(dataTable, element);\n",
              "          const docLink = document.createElement('div');\n",
              "          docLink.innerHTML = docLinkHtml;\n",
              "          element.appendChild(docLink);\n",
              "        }\n",
              "      </script>\n",
              "    </div>\n",
              "  </div>\n",
              "  "
            ]
          },
          "metadata": {},
          "execution_count": 31
        }
      ],
      "source": [
        "df_all_rows[\"cluster_id\"] = cluster_col #//////grand total should have same clusterid with different database_id /// each cluster should have same rec_id, the cluster we have now is not pure \n",
        "df_all_rows.tail()"
      ]
    },
    {
      "cell_type": "code",
      "execution_count": null,
      "metadata": {
        "id": "0u1S8OWHDeZD"
      },
      "outputs": [],
      "source": [
        "df_all_rows.to_csv('Final_result.csv', index=False)"
      ]
    },
    {
      "cell_type": "markdown",
      "metadata": {
        "id": "zDx815iKvIbu"
      },
      "source": [
        "# Testing"
      ]
    },
    {
      "cell_type": "code",
      "execution_count": null,
      "metadata": {
        "id": "E8OYiT6sFT-u"
      },
      "outputs": [],
      "source": [
        "og_tab1 = pd.read_csv('ncvr_numrec_100_modrec_2_ocp_0_myp_0_nump_5.csv')\n",
        "og_tab2 = pd.read_csv('ncvr_numrec_100_modrec_2_ocp_0_myp_1_nump_5.csv')\n",
        "og_tab3 = pd.read_csv('ncvr_numrec_100_modrec_2_ocp_0_myp_2_nump_5.csv')\n",
        "og_tab4 = pd.read_csv('ncvr_numrec_100_modrec_2_ocp_0_myp_3_nump_5.csv')\n",
        "og_tab5 = pd.read_csv('ncvr_numrec_100_modrec_2_ocp_0_myp_4_nump_5.csv')"
      ]
    },
    {
      "cell_type": "code",
      "execution_count": null,
      "metadata": {
        "colab": {
          "base_uri": "https://localhost:8080/",
          "height": 288
        },
        "id": "JUJYhz37JwIT",
        "outputId": "8e29e2df-81f2-4906-b07d-9cd7362d1489"
      },
      "outputs": [
        {
          "output_type": "execute_result",
          "data": {
            "text/plain": [
              "    rec_id voter_reg_num      name_prefix    first_name  middle_name  \\\n",
              "0  6978370     graziella  gambale-marengi       raleigh        27617   \n",
              "1  2347140           kia        mccormick       raleigh        27603   \n",
              "2  3370376     elizabeth         phillips  robbinsville        28771   \n",
              "3  7621378       sherlyn           penado      gastonia        28056   \n",
              "4   216852        vernon            smith        durham        27704   \n",
              "\n",
              "   last_name  name_suffix  age  gender  race  ethnic  street_address  city  \\\n",
              "0        NaN          NaN  NaN     NaN   NaN     NaN             NaN   NaN   \n",
              "1        NaN          NaN  NaN     NaN   NaN     NaN             NaN   NaN   \n",
              "2        NaN          NaN  NaN     NaN   NaN     NaN             NaN   NaN   \n",
              "3        NaN          NaN  NaN     NaN   NaN     NaN             NaN   NaN   \n",
              "4        NaN          NaN  NaN     NaN   NaN     NaN             NaN   NaN   \n",
              "\n",
              "   state  zip_code  full_phone_num  birth_place  register_date  download_month  \n",
              "0    NaN       NaN             NaN          NaN            NaN             NaN  \n",
              "1    NaN       NaN             NaN          NaN            NaN             NaN  \n",
              "2    NaN       NaN             NaN          NaN            NaN             NaN  \n",
              "3    NaN       NaN             NaN          NaN            NaN             NaN  \n",
              "4    NaN       NaN             NaN          NaN            NaN             NaN  "
            ],
            "text/html": [
              "\n",
              "  <div id=\"df-d861fbdb-6a58-47e0-b779-30778ad0d564\">\n",
              "    <div class=\"colab-df-container\">\n",
              "      <div>\n",
              "<style scoped>\n",
              "    .dataframe tbody tr th:only-of-type {\n",
              "        vertical-align: middle;\n",
              "    }\n",
              "\n",
              "    .dataframe tbody tr th {\n",
              "        vertical-align: top;\n",
              "    }\n",
              "\n",
              "    .dataframe thead th {\n",
              "        text-align: right;\n",
              "    }\n",
              "</style>\n",
              "<table border=\"1\" class=\"dataframe\">\n",
              "  <thead>\n",
              "    <tr style=\"text-align: right;\">\n",
              "      <th></th>\n",
              "      <th>rec_id</th>\n",
              "      <th>voter_reg_num</th>\n",
              "      <th>name_prefix</th>\n",
              "      <th>first_name</th>\n",
              "      <th>middle_name</th>\n",
              "      <th>last_name</th>\n",
              "      <th>name_suffix</th>\n",
              "      <th>age</th>\n",
              "      <th>gender</th>\n",
              "      <th>race</th>\n",
              "      <th>ethnic</th>\n",
              "      <th>street_address</th>\n",
              "      <th>city</th>\n",
              "      <th>state</th>\n",
              "      <th>zip_code</th>\n",
              "      <th>full_phone_num</th>\n",
              "      <th>birth_place</th>\n",
              "      <th>register_date</th>\n",
              "      <th>download_month</th>\n",
              "    </tr>\n",
              "  </thead>\n",
              "  <tbody>\n",
              "    <tr>\n",
              "      <th>0</th>\n",
              "      <td>6978370</td>\n",
              "      <td>graziella</td>\n",
              "      <td>gambale-marengi</td>\n",
              "      <td>raleigh</td>\n",
              "      <td>27617</td>\n",
              "      <td>NaN</td>\n",
              "      <td>NaN</td>\n",
              "      <td>NaN</td>\n",
              "      <td>NaN</td>\n",
              "      <td>NaN</td>\n",
              "      <td>NaN</td>\n",
              "      <td>NaN</td>\n",
              "      <td>NaN</td>\n",
              "      <td>NaN</td>\n",
              "      <td>NaN</td>\n",
              "      <td>NaN</td>\n",
              "      <td>NaN</td>\n",
              "      <td>NaN</td>\n",
              "      <td>NaN</td>\n",
              "    </tr>\n",
              "    <tr>\n",
              "      <th>1</th>\n",
              "      <td>2347140</td>\n",
              "      <td>kia</td>\n",
              "      <td>mccormick</td>\n",
              "      <td>raleigh</td>\n",
              "      <td>27603</td>\n",
              "      <td>NaN</td>\n",
              "      <td>NaN</td>\n",
              "      <td>NaN</td>\n",
              "      <td>NaN</td>\n",
              "      <td>NaN</td>\n",
              "      <td>NaN</td>\n",
              "      <td>NaN</td>\n",
              "      <td>NaN</td>\n",
              "      <td>NaN</td>\n",
              "      <td>NaN</td>\n",
              "      <td>NaN</td>\n",
              "      <td>NaN</td>\n",
              "      <td>NaN</td>\n",
              "      <td>NaN</td>\n",
              "    </tr>\n",
              "    <tr>\n",
              "      <th>2</th>\n",
              "      <td>3370376</td>\n",
              "      <td>elizabeth</td>\n",
              "      <td>phillips</td>\n",
              "      <td>robbinsville</td>\n",
              "      <td>28771</td>\n",
              "      <td>NaN</td>\n",
              "      <td>NaN</td>\n",
              "      <td>NaN</td>\n",
              "      <td>NaN</td>\n",
              "      <td>NaN</td>\n",
              "      <td>NaN</td>\n",
              "      <td>NaN</td>\n",
              "      <td>NaN</td>\n",
              "      <td>NaN</td>\n",
              "      <td>NaN</td>\n",
              "      <td>NaN</td>\n",
              "      <td>NaN</td>\n",
              "      <td>NaN</td>\n",
              "      <td>NaN</td>\n",
              "    </tr>\n",
              "    <tr>\n",
              "      <th>3</th>\n",
              "      <td>7621378</td>\n",
              "      <td>sherlyn</td>\n",
              "      <td>penado</td>\n",
              "      <td>gastonia</td>\n",
              "      <td>28056</td>\n",
              "      <td>NaN</td>\n",
              "      <td>NaN</td>\n",
              "      <td>NaN</td>\n",
              "      <td>NaN</td>\n",
              "      <td>NaN</td>\n",
              "      <td>NaN</td>\n",
              "      <td>NaN</td>\n",
              "      <td>NaN</td>\n",
              "      <td>NaN</td>\n",
              "      <td>NaN</td>\n",
              "      <td>NaN</td>\n",
              "      <td>NaN</td>\n",
              "      <td>NaN</td>\n",
              "      <td>NaN</td>\n",
              "    </tr>\n",
              "    <tr>\n",
              "      <th>4</th>\n",
              "      <td>216852</td>\n",
              "      <td>vernon</td>\n",
              "      <td>smith</td>\n",
              "      <td>durham</td>\n",
              "      <td>27704</td>\n",
              "      <td>NaN</td>\n",
              "      <td>NaN</td>\n",
              "      <td>NaN</td>\n",
              "      <td>NaN</td>\n",
              "      <td>NaN</td>\n",
              "      <td>NaN</td>\n",
              "      <td>NaN</td>\n",
              "      <td>NaN</td>\n",
              "      <td>NaN</td>\n",
              "      <td>NaN</td>\n",
              "      <td>NaN</td>\n",
              "      <td>NaN</td>\n",
              "      <td>NaN</td>\n",
              "      <td>NaN</td>\n",
              "    </tr>\n",
              "  </tbody>\n",
              "</table>\n",
              "</div>\n",
              "      <button class=\"colab-df-convert\" onclick=\"convertToInteractive('df-d861fbdb-6a58-47e0-b779-30778ad0d564')\"\n",
              "              title=\"Convert this dataframe to an interactive table.\"\n",
              "              style=\"display:none;\">\n",
              "        \n",
              "  <svg xmlns=\"http://www.w3.org/2000/svg\" height=\"24px\"viewBox=\"0 0 24 24\"\n",
              "       width=\"24px\">\n",
              "    <path d=\"M0 0h24v24H0V0z\" fill=\"none\"/>\n",
              "    <path d=\"M18.56 5.44l.94 2.06.94-2.06 2.06-.94-2.06-.94-.94-2.06-.94 2.06-2.06.94zm-11 1L8.5 8.5l.94-2.06 2.06-.94-2.06-.94L8.5 2.5l-.94 2.06-2.06.94zm10 10l.94 2.06.94-2.06 2.06-.94-2.06-.94-.94-2.06-.94 2.06-2.06.94z\"/><path d=\"M17.41 7.96l-1.37-1.37c-.4-.4-.92-.59-1.43-.59-.52 0-1.04.2-1.43.59L10.3 9.45l-7.72 7.72c-.78.78-.78 2.05 0 2.83L4 21.41c.39.39.9.59 1.41.59.51 0 1.02-.2 1.41-.59l7.78-7.78 2.81-2.81c.8-.78.8-2.07 0-2.86zM5.41 20L4 18.59l7.72-7.72 1.47 1.35L5.41 20z\"/>\n",
              "  </svg>\n",
              "      </button>\n",
              "      \n",
              "  <style>\n",
              "    .colab-df-container {\n",
              "      display:flex;\n",
              "      flex-wrap:wrap;\n",
              "      gap: 12px;\n",
              "    }\n",
              "\n",
              "    .colab-df-convert {\n",
              "      background-color: #E8F0FE;\n",
              "      border: none;\n",
              "      border-radius: 50%;\n",
              "      cursor: pointer;\n",
              "      display: none;\n",
              "      fill: #1967D2;\n",
              "      height: 32px;\n",
              "      padding: 0 0 0 0;\n",
              "      width: 32px;\n",
              "    }\n",
              "\n",
              "    .colab-df-convert:hover {\n",
              "      background-color: #E2EBFA;\n",
              "      box-shadow: 0px 1px 2px rgba(60, 64, 67, 0.3), 0px 1px 3px 1px rgba(60, 64, 67, 0.15);\n",
              "      fill: #174EA6;\n",
              "    }\n",
              "\n",
              "    [theme=dark] .colab-df-convert {\n",
              "      background-color: #3B4455;\n",
              "      fill: #D2E3FC;\n",
              "    }\n",
              "\n",
              "    [theme=dark] .colab-df-convert:hover {\n",
              "      background-color: #434B5C;\n",
              "      box-shadow: 0px 1px 3px 1px rgba(0, 0, 0, 0.15);\n",
              "      filter: drop-shadow(0px 1px 2px rgba(0, 0, 0, 0.3));\n",
              "      fill: #FFFFFF;\n",
              "    }\n",
              "  </style>\n",
              "\n",
              "      <script>\n",
              "        const buttonEl =\n",
              "          document.querySelector('#df-d861fbdb-6a58-47e0-b779-30778ad0d564 button.colab-df-convert');\n",
              "        buttonEl.style.display =\n",
              "          google.colab.kernel.accessAllowed ? 'block' : 'none';\n",
              "\n",
              "        async function convertToInteractive(key) {\n",
              "          const element = document.querySelector('#df-d861fbdb-6a58-47e0-b779-30778ad0d564');\n",
              "          const dataTable =\n",
              "            await google.colab.kernel.invokeFunction('convertToInteractive',\n",
              "                                                     [key], {});\n",
              "          if (!dataTable) return;\n",
              "\n",
              "          const docLinkHtml = 'Like what you see? Visit the ' +\n",
              "            '<a target=\"_blank\" href=https://colab.research.google.com/notebooks/data_table.ipynb>data table notebook</a>'\n",
              "            + ' to learn more about interactive tables.';\n",
              "          element.innerHTML = '';\n",
              "          dataTable['output_type'] = 'display_data';\n",
              "          await google.colab.output.renderOutput(dataTable, element);\n",
              "          const docLink = document.createElement('div');\n",
              "          docLink.innerHTML = docLinkHtml;\n",
              "          element.appendChild(docLink);\n",
              "        }\n",
              "      </script>\n",
              "    </div>\n",
              "  </div>\n",
              "  "
            ]
          },
          "metadata": {},
          "execution_count": 34
        }
      ],
      "source": [
        "og_tab1.head()"
      ]
    },
    {
      "cell_type": "code",
      "execution_count": null,
      "metadata": {
        "id": "3LOG8GkdvHU4"
      },
      "outputs": [],
      "source": [
        "original_df = pd.concat([og_tab1, og_tab2, og_tab3, og_tab4, og_tab5])"
      ]
    },
    {
      "cell_type": "code",
      "execution_count": null,
      "metadata": {
        "id": "eV60nLSXGhJ4"
      },
      "outputs": [],
      "source": [
        "loop = 20\n",
        "keep1 = list()\n",
        "result = list()\n",
        "for i in range(len(df_all_rows)):\n",
        "  if df_all_rows.iloc[i, 3] == loop:\n",
        "    keep1.append(int(df_all_rows.iloc[i, 0][1:]))\n",
        "for j in range(len(original_df)):\n",
        "  if original_df.iloc[j, 0] in keep1:\n",
        "    result.append(original_df.iloc[j, 0])"
      ]
    },
    {
      "cell_type": "code",
      "source": [
        "result"
      ],
      "metadata": {
        "colab": {
          "base_uri": "https://localhost:8080/"
        },
        "id": "Nfss0xaYJyNg",
        "outputId": "44ad98e4-db08-4fe2-d47b-f3f7b6481992"
      },
      "execution_count": null,
      "outputs": [
        {
          "output_type": "execute_result",
          "data": {
            "text/plain": [
              "[1124670, 1124670, 1124670, 1124670, 1124670]"
            ]
          },
          "metadata": {},
          "execution_count": 37
        }
      ]
    },
    {
      "cell_type": "code",
      "source": [
        "#unique value of each cluster created\n",
        "result = set(result)\n",
        "len(result)"
      ],
      "metadata": {
        "colab": {
          "base_uri": "https://localhost:8080/"
        },
        "id": "_yh7g50NGpHo",
        "outputId": "1ca3b7a9-6cd4-4476-f982-25caafbad74b"
      },
      "execution_count": null,
      "outputs": [
        {
          "output_type": "execute_result",
          "data": {
            "text/plain": [
              "1"
            ]
          },
          "metadata": {},
          "execution_count": 38
        }
      ]
    },
    {
      "cell_type": "markdown",
      "source": [
        "# Dont run"
      ],
      "metadata": {
        "id": "IUXy9Y2FmOQ2"
      }
    },
    {
      "cell_type": "code",
      "source": [
        "# test don't run\n",
        "wrongcount = 0\n",
        "keep1 = list()\n",
        "result = list()\n",
        "for i in range(counter_clus):\n",
        "  for k in range(len(df_all_rows)):\n",
        "    if df_all_rows.iloc[k, 3] == i:\n",
        "      keep1.append(int(df_all_rows.iloc[k, 0][1:]))\n",
        "    for j in range(len(original_df)):\n",
        "      if original_df.iloc[j, 0] in keep1:\n",
        "        result.append(original_df.iloc[j, 0])\n",
        "    myset = set(result)\n",
        "    if len(myset) > 1:\n",
        "      wrongcount += 1"
      ],
      "metadata": {
        "id": "IXoqMeBBoRLp"
      },
      "execution_count": null,
      "outputs": []
    },
    {
      "cell_type": "code",
      "source": [
        "#first method\n",
        "#The code below aims to get the average of all binary record for each cluster id.(using binary addition and division) \n",
        "max = cluster_map.iloc[len(cluster_map)-1, 0]\n",
        "listexp = list()\n",
        "loop = 0\n",
        "averages = dict()\n",
        "for i in range(max): \n",
        "  for j in range(len(cluster_map)): #loop through the cluster_map table\n",
        "      if cluster_map.iloc[j, 0] == loop: #identify a single cluster id and store it binary record in a temporary list\n",
        "        listexp.append(cluster_map.iloc[j, 1])\n",
        "  sum = \"0\"\n",
        "  div = 0\n",
        "  for k in range(len(listexp)): #loop through the list created\n",
        "    flow = listexp[k].to01()\n",
        "    sum = bin(int(sum, 2) + int(flow, 2)) # add all binary record in that list \n",
        "    div += 1\n",
        "    num = int(sum, 2) # devide the sum to get the average for each cluster id\n",
        "  ans = bin(int(num/div))\n",
        "  averages[loop] = ans[2:]\n",
        "  loop += 1"
      ],
      "metadata": {
        "id": "AhlXLge1mMrD"
      },
      "execution_count": null,
      "outputs": []
    }
  ],
  "metadata": {
    "colab": {
      "collapsed_sections": [
        "xyBAFE28f1nb"
      ],
      "provenance": [],
      "include_colab_link": true
    },
    "kernelspec": {
      "display_name": "Python 3",
      "name": "python3"
    },
    "language_info": {
      "name": "python"
    }
  },
  "nbformat": 4,
  "nbformat_minor": 0
}